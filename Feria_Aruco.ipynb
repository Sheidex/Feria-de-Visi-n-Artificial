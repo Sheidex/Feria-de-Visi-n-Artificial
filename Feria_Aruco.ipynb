{
 "cells": [
  {
   "cell_type": "markdown",
   "id": "96e632f3-ece6-4ba3-be23-0d88c779d745",
   "metadata": {},
   "source": [
    "<h1>Trabajdo Realizado para la Feria</h1>"
   ]
  },
  {
   "cell_type": "markdown",
   "id": "20666ae8-32f4-4301-8359-0e4a5343eb6f",
   "metadata": {},
   "source": [
    "<h2>Integrantes</h2>\n",
    "<p>Luis Caballero 8-9231440<br>\n",
    "Ángel Cilli<br>\n",
    "Jaime Acosta</p>"
   ]
  },
  {
   "cell_type": "markdown",
   "id": "0aabf84c-45bb-4253-8f2b-94a30a4bbce0",
   "metadata": {},
   "source": [
    "<p><b>Idea o Concepto:</b>Trabajaremos un reconocedor de \"personal\" dentro del equipo, un Aruco distinto para Jaime Acosta y Luis Caballero, que cuando sean mostrados a la cámara el programa ejecutará distintos enfoques con Aruco.</p>"
   ]
  },
  {
   "cell_type": "code",
   "execution_count": null,
   "id": "0e4cc514-6b06-402f-8d3c-cc1543977e03",
   "metadata": {},
   "outputs": [],
   "source": []
  }
 ],
 "metadata": {
  "kernelspec": {
   "display_name": "Python 3 (ipykernel)",
   "language": "python",
   "name": "python3"
  },
  "language_info": {
   "codemirror_mode": {
    "name": "ipython",
    "version": 3
   },
   "file_extension": ".py",
   "mimetype": "text/x-python",
   "name": "python",
   "nbconvert_exporter": "python",
   "pygments_lexer": "ipython3",
   "version": "3.11.4"
  }
 },
 "nbformat": 4,
 "nbformat_minor": 5
}
